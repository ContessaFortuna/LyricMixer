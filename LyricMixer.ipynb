{
 "cells": [
  {
   "cell_type": "markdown",
   "metadata": {},
   "source": [
    "# Lyric Mixer\n",
    "\n",
    "The goal of this project is to take two songs' lyrics from songlyrics.com based on user input and mix their lyrics to create a combined song.\n",
    "\n",
    "To start, let's get some imports. requests, html5lib, and bs4 are for accessing the HTML of the website for lyrics, while ipywidgets and clear_output are for the Jupyter Notebook interface."
   ]
  },
  {
   "cell_type": "code",
   "execution_count": 22,
   "metadata": {
    "scrolled": true
   },
   "outputs": [],
   "source": [
    "import requests, html5lib;\n",
    "from bs4 import BeautifulSoup;\n",
    "from ipywidgets import widgets;\n",
    "from IPython.display import clear_output;"
   ]
  },
  {
   "cell_type": "markdown",
   "metadata": {},
   "source": [
    "Next, we'll define a grabLyrics method that takes a songlyrics URL and grabs the lyrics by finding the text in the songLyricsDiv tag and splitting it by lines so we can get a separated list of lyrics."
   ]
  },
  {
   "cell_type": "code",
   "execution_count": 56,
   "metadata": {},
   "outputs": [
    {
     "name": "stdout",
     "output_type": "stream",
     "text": [
      "['Standing on the moon, I saw you, love', \"Do you think we'll be somebody?\", 'Just standing all alone right in front of me', \"Do you think we'll see?\", 'La, la, la, la,', 'Oh no', \"I'm not one for love nowadays\", 'But anyway', 'I see your face is so fake', 'Justin is on the phone', 'Right in front of me', \"Do you think we'll be?\", 'La, la, la, la,', 'I was standing on the bed', 'Birds were landing on my head', \"Even though it's just a dream\", \"I still don't know what it means\", 'Oh no...', 'If you believe in love', 'Everything you see is love', 'So try to be what God wants you to be', 'And say that \"I love you\" again']\n"
     ]
    }
   ],
   "source": [
    "def grabLyrics(sl_url):\n",
    "    r = requests.get(sl_url);\n",
    "    soup = BeautifulSoup(r.content,'html5lib');\n",
    "    lyrics = soup.find(id='songLyricsDiv').text.split(\"\\n\");\n",
    "    return lyrics;\n",
    "\n",
    "print(grabLyrics(\"http://www.songlyrics.com/foxygen/oh-no-lyrics/\"));"
   ]
  },
  {
   "cell_type": "markdown",
   "metadata": {},
   "source": [
    "Next, we're going to utilize the songlyrics search feature to take a search string and return the URL of the top result. We'll need to replace the spaces in the search query with pluses because we're directly accessing the search URL for efficiency."
   ]
  },
  {
   "cell_type": "code",
   "execution_count": 55,
   "metadata": {
    "scrolled": true
   },
   "outputs": [
    {
     "name": "stdout",
     "output_type": "stream",
     "text": [
      "http://www.songlyrics.com/the-bohemian-champions/bohemian-rhapsody-lyrics/\n"
     ]
    }
   ],
   "source": [
    "def searchSong(sl_search):\n",
    "    r = requests.get(r\"http://www.songlyrics.com/index.php?section=search&searchW=\"+sl_search.replace(' ','+'));\n",
    "    soup = BeautifulSoup(r.content, 'html5lib');\n",
    "    sl_tag = soup.find(\"div\",{\"class\": \"serpresult\"}).findChildren(\"a\")[0];\n",
    "    return sl_tag['href'];\n",
    "\n",
    "print(searchSong(\"Bohemian Rhapsody\"));"
   ]
  },
  {
   "cell_type": "markdown",
   "metadata": {},
   "source": [
    "The third and final method will be a mix lyrics method that takes the lyrics of two songs as strings and mixes them together. The final product will be the length of the shorter song."
   ]
  },
  {
   "cell_type": "code",
   "execution_count": 54,
   "metadata": {},
   "outputs": [
    {
     "name": "stdout",
     "output_type": "stream",
     "text": [
      "['A', 2, 'C']\n"
     ]
    }
   ],
   "source": [
    "def mixLyrics(lyricsA, lyricsB):\n",
    "    newLyrics=[];\n",
    "    for i in range(0,min(len(lyricsA),len(lyricsB))):\n",
    "        newLyrics.append([lyricsA[i],lyricsB[i]][i%2==1]);\n",
    "    return newLyrics;\n",
    "\n",
    "print(mixLyrics(['A','B','C','D','E'],[1,2,3]));"
   ]
  },
  {
   "cell_type": "markdown",
   "metadata": {},
   "source": [
    "Let's combine all the methods into one singular method for ease of use."
   ]
  },
  {
   "cell_type": "code",
   "execution_count": 57,
   "metadata": {},
   "outputs": [],
   "source": [
    "def mixSongs(sl_searchA, sl_searchB):\n",
    "    lyricsA = grabLyrics(searchSong(sl_searchA));\n",
    "    lyricsB = grabLyrics(searchSong(sl_searchB));\n",
    "    return mixLyrics(lyricsA, lyricsB);"
   ]
  },
  {
   "cell_type": "markdown",
   "metadata": {},
   "source": [
    "Finally, we'll set up Jupyter notebook widgets to create a user interface."
   ]
  },
  {
   "cell_type": "code",
   "execution_count": 61,
   "metadata": {
    "scrolled": true
   },
   "outputs": [
    {
     "data": {
      "application/vnd.jupyter.widget-view+json": {
       "model_id": "f734f13b06a0424893c6a9bdcc709377",
       "version_major": 2,
       "version_minor": 0
      },
      "text/plain": [
       "Text(value='Satellite of Love', placeholder='First Song')"
      ]
     },
     "metadata": {},
     "output_type": "display_data"
    },
    {
     "data": {
      "application/vnd.jupyter.widget-view+json": {
       "model_id": "684b4e43075649da9f2238ce6dab57f7",
       "version_major": 2,
       "version_minor": 0
      },
      "text/plain": [
       "Text(value='Happy', placeholder='Second Song')"
      ]
     },
     "metadata": {},
     "output_type": "display_data"
    },
    {
     "data": {
      "application/vnd.jupyter.widget-view+json": {
       "model_id": "a6adc65bd9594c25a4724185bcccb518",
       "version_major": 2,
       "version_minor": 0
      },
      "text/plain": [
       "Button(button_style='success', description='Mix!', style=ButtonStyle())"
      ]
     },
     "metadata": {},
     "output_type": "display_data"
    },
    {
     "name": "stdout",
     "output_type": "stream",
     "text": [
      "Satellite's gone\n",
      "Sunshine she's here, you can take a break\n",
      "Thing like that drive me\n",
      "With the air, like I don't care baby by the way\n",
      "\n",
      "Because I'm happy\n",
      "I cannot stand the TV\n",
      "Because I'm happy\n",
      "Satellite of love\n",
      "Because I'm happy\n",
      "Satellite of love\n",
      "Because I'm happy\n",
      "\n",
      "\n",
      "way up to Mars\n",
      "Yeah, well, gimme all you got and don't hold back\n",
      "with parking cars\n",
      "Yeah, no offense to you don't waste your time\n",
      "I watch it for a little while\n",
      "\n",
      "\n",
      "Clap along if you feel like a room without a roof\n",
      "satellite of love\n",
      "Clap along if you feel like happiness is the truth\n",
      "satellite of\n",
      "Clap along if you know what happiness is to you\n",
      "I've been told that you've been bold\n",
      "Clap along if you feel like that's what you wanna do\n",
      "Monday, Tuesday, Wednesday to Thursday\n",
      "(Happy) bring me down\n",
      "\n",
      "My level's too high (happy) to bring me down\n",
      "up to the skies\n",
      "I said\n",
      "out of my mind\n",
      "Can't nothing bring me down\n",
      "I watched it for a little while\n",
      "Can't nothing bring me down\n",
      "\n",
      "\n",
      "satellite of love\n",
      "Clap along if you feel like a room without a roof\n",
      "satellite of\n",
      "Clap along if you feel like happiness is the truth\n",
      "Satellite of love\n",
      "Clap along if you know what happiness is to you\n",
      "Satellite of love\n",
      "Clap along if you feel like that's what you wanna do\n",
      "Satellite of love\n",
      "Because I'm happy\n"
     ]
    }
   ],
   "source": [
    "inputA = widgets.Text(placeholder=\"First Song\");\n",
    "inputB = widgets.Text(placeholder=\"Second Song\");\n",
    "activate = widgets.Button(description=\"Mix!\",button_style='success');\n",
    "\n",
    "def displayAll():\n",
    "    display(inputA);\n",
    "    display(inputB);\n",
    "    display(activate);\n",
    "\n",
    "def start(sender):\n",
    "    clear_output(wait=True);\n",
    "    displayAll();\n",
    "    mixed = mixSongs(inputA.value,inputB.value);\n",
    "    for lyric in mixed:\n",
    "        print(lyric);\n",
    "\n",
    "displayAll();\n",
    "activate.on_click(start);"
   ]
  }
 ],
 "metadata": {
  "kernelspec": {
   "display_name": "Python 3",
   "language": "python",
   "name": "python3"
  },
  "language_info": {
   "codemirror_mode": {
    "name": "ipython",
    "version": 3
   },
   "file_extension": ".py",
   "mimetype": "text/x-python",
   "name": "python",
   "nbconvert_exporter": "python",
   "pygments_lexer": "ipython3",
   "version": "3.7.3"
  }
 },
 "nbformat": 4,
 "nbformat_minor": 2
}
